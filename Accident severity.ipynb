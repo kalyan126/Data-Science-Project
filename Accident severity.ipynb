{
 "cells": [
  {
   "cell_type": "markdown",
   "metadata": {},
   "source": [
    "<h1>Accident Severity Prediction to reduce Road Traffic Accidents in Seattle,United States Capstone Project</h1>"
   ]
  },
  {
   "cell_type": "markdown",
   "metadata": {},
   "source": [
    "__Introduction/ Business Problem__"
   ]
  },
  {
   "cell_type": "markdown",
   "metadata": {},
   "source": [
    "Road traffic accidents has brought sadness and trauma to the loved ones. A study to learn the major/Deciding factors for the cause of \n",
    "traffic accidents is an important area of research. In a effort to decrease the count and frequency of such fatal collisions in the \n",
    "neighbourhood and community, a model/method should be developed to analyze the data by considering the condtions -(Current Weather,\n",
    "road and visibility conditions).With the model, we will be able to alert the user to be more cautious.\n",
    "\n",
    "Objective in this project is to develop a supervised prediction model that predicts the severity of an accident given certain\n",
    "circumstances (the current weather, road and visibility conditions)."
   ]
  },
  {
   "cell_type": "code",
   "execution_count": null,
   "metadata": {},
   "outputs": [],
   "source": []
  }
 ],
 "metadata": {
  "kernelspec": {
   "display_name": "Python 3",
   "language": "python",
   "name": "python3"
  },
  "language_info": {
   "codemirror_mode": {
    "name": "ipython",
    "version": 3
   },
   "file_extension": ".py",
   "mimetype": "text/x-python",
   "name": "python",
   "nbconvert_exporter": "python",
   "pygments_lexer": "ipython3",
   "version": "3.8.3"
  }
 },
 "nbformat": 4,
 "nbformat_minor": 4
}
