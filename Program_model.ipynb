{
    "cells": [
        {
            "cell_type": "code",
            "execution_count": 7,
            "metadata": {},
            "outputs": [],
            "source": "import pandas as pd\nimport numpy as np\nfrom sklearn.utils import resample                                 # For downscaling\nfrom sklearn.preprocessing import LabelEncoder                     # For encoding the categorical variable in the dataset\nimport seaborn as sns                                              # for analyzing our dataset\nimport matplotlib.pyplot as plt\n%matplotlib inline\nfrom scipy.stats import pearsonr\nfrom sklearn.preprocessing import StandardScaler as SS             # for Normalization of data\nfrom sklearn.model_selection import train_test_split as tts        # for splitting our dataset\n\nfrom sklearn.neighbors import KNeighborsClassifier as KNN          # for K Nearest Neighbor \n\nfrom sklearn.tree import DecisionTreeClassifier as DTC             # for Decision Tree and also plotting the tree\nfrom sklearn.externals.six import StringIO\nimport matplotlib.image as mpimg\nfrom sklearn import tree \n\n\nfrom sklearn.linear_model import LogisticRegression as LR          # for Logistic Regression\n\n\nfrom sklearn.metrics import jaccard_similarity_score               # for Evaluation of our models\nfrom sklearn.metrics import f1_score\nfrom sklearn.metrics import log_loss"
        },
        {
            "cell_type": "markdown",
            "metadata": {},
            "source": "__To Load dataset__"
        },
        {
            "cell_type": "code",
            "execution_count": 8,
            "metadata": {},
            "outputs": [
                {
                    "name": "stdout",
                    "output_type": "stream",
                    "text": "--2020-09-30 13:06:19--  https://s3.us.cloud-object-storage.appdomain.cloud/cf-courses-data/CognitiveClass/DP0701EN/version-2/Data-Collisions.csv\nResolving s3.us.cloud-object-storage.appdomain.cloud (s3.us.cloud-object-storage.appdomain.cloud)... 67.228.254.196\nConnecting to s3.us.cloud-object-storage.appdomain.cloud (s3.us.cloud-object-storage.appdomain.cloud)|67.228.254.196|:443... connected.\nHTTP request sent, awaiting response... 200 OK\nLength: 73917638 (70M) [text/csv]\nSaving to: \u2018Data-Collisions.csv\u2019\n\n100%[======================================>] 73,917,638  38.6MB/s   in 1.8s   \n\n2020-09-30 13:06:21 (38.6 MB/s) - \u2018Data-Collisions.csv\u2019 saved [73917638/73917638]\n\n"
                }
            ],
            "source": "!wget -O  \"Data-Collisions.csv\" https://s3.us.cloud-object-storage.appdomain.cloud/cf-courses-data/CognitiveClass/DP0701EN/version-2/Data-Collisions.csv"
        },
        {
            "cell_type": "code",
            "execution_count": 10,
            "metadata": {},
            "outputs": [
                {
                    "data": {
                        "text/html": "<div>\n<style scoped>\n    .dataframe tbody tr th:only-of-type {\n        vertical-align: middle;\n    }\n\n    .dataframe tbody tr th {\n        vertical-align: top;\n    }\n\n    .dataframe thead th {\n        text-align: right;\n    }\n</style>\n<table border=\"1\" class=\"dataframe\">\n  <thead>\n    <tr style=\"text-align: right;\">\n      <th></th>\n      <th>SEVERITYCODE</th>\n      <th>X</th>\n      <th>Y</th>\n      <th>OBJECTID</th>\n      <th>INCKEY</th>\n      <th>COLDETKEY</th>\n      <th>REPORTNO</th>\n      <th>STATUS</th>\n      <th>ADDRTYPE</th>\n      <th>INTKEY</th>\n      <th>...</th>\n      <th>ROADCOND</th>\n      <th>LIGHTCOND</th>\n      <th>PEDROWNOTGRNT</th>\n      <th>SDOTCOLNUM</th>\n      <th>SPEEDING</th>\n      <th>ST_COLCODE</th>\n      <th>ST_COLDESC</th>\n      <th>SEGLANEKEY</th>\n      <th>CROSSWALKKEY</th>\n      <th>HITPARKEDCAR</th>\n    </tr>\n  </thead>\n  <tbody>\n    <tr>\n      <th>count</th>\n      <td>194673.000000</td>\n      <td>189339.000000</td>\n      <td>189339.000000</td>\n      <td>194673.000000</td>\n      <td>194673.000000</td>\n      <td>194673.000000</td>\n      <td>194673</td>\n      <td>194673</td>\n      <td>192747</td>\n      <td>65070.000000</td>\n      <td>...</td>\n      <td>189661</td>\n      <td>189503</td>\n      <td>4667</td>\n      <td>1.149360e+05</td>\n      <td>9333</td>\n      <td>194655</td>\n      <td>189769</td>\n      <td>194673.000000</td>\n      <td>1.946730e+05</td>\n      <td>194673</td>\n    </tr>\n    <tr>\n      <th>unique</th>\n      <td>NaN</td>\n      <td>NaN</td>\n      <td>NaN</td>\n      <td>NaN</td>\n      <td>NaN</td>\n      <td>NaN</td>\n      <td>194670</td>\n      <td>2</td>\n      <td>3</td>\n      <td>NaN</td>\n      <td>...</td>\n      <td>9</td>\n      <td>9</td>\n      <td>1</td>\n      <td>NaN</td>\n      <td>1</td>\n      <td>115</td>\n      <td>62</td>\n      <td>NaN</td>\n      <td>NaN</td>\n      <td>2</td>\n    </tr>\n    <tr>\n      <th>top</th>\n      <td>NaN</td>\n      <td>NaN</td>\n      <td>NaN</td>\n      <td>NaN</td>\n      <td>NaN</td>\n      <td>NaN</td>\n      <td>1782439</td>\n      <td>Matched</td>\n      <td>Block</td>\n      <td>NaN</td>\n      <td>...</td>\n      <td>Dry</td>\n      <td>Daylight</td>\n      <td>Y</td>\n      <td>NaN</td>\n      <td>Y</td>\n      <td>32</td>\n      <td>One parked--one moving</td>\n      <td>NaN</td>\n      <td>NaN</td>\n      <td>N</td>\n    </tr>\n    <tr>\n      <th>freq</th>\n      <td>NaN</td>\n      <td>NaN</td>\n      <td>NaN</td>\n      <td>NaN</td>\n      <td>NaN</td>\n      <td>NaN</td>\n      <td>2</td>\n      <td>189786</td>\n      <td>126926</td>\n      <td>NaN</td>\n      <td>...</td>\n      <td>124510</td>\n      <td>116137</td>\n      <td>4667</td>\n      <td>NaN</td>\n      <td>9333</td>\n      <td>27612</td>\n      <td>44421</td>\n      <td>NaN</td>\n      <td>NaN</td>\n      <td>187457</td>\n    </tr>\n    <tr>\n      <th>mean</th>\n      <td>1.298901</td>\n      <td>-122.330518</td>\n      <td>47.619543</td>\n      <td>108479.364930</td>\n      <td>141091.456350</td>\n      <td>141298.811381</td>\n      <td>NaN</td>\n      <td>NaN</td>\n      <td>NaN</td>\n      <td>37558.450576</td>\n      <td>...</td>\n      <td>NaN</td>\n      <td>NaN</td>\n      <td>NaN</td>\n      <td>7.972521e+06</td>\n      <td>NaN</td>\n      <td>NaN</td>\n      <td>NaN</td>\n      <td>269.401114</td>\n      <td>9.782452e+03</td>\n      <td>NaN</td>\n    </tr>\n    <tr>\n      <th>std</th>\n      <td>0.457778</td>\n      <td>0.029976</td>\n      <td>0.056157</td>\n      <td>62649.722558</td>\n      <td>86634.402737</td>\n      <td>86986.542110</td>\n      <td>NaN</td>\n      <td>NaN</td>\n      <td>NaN</td>\n      <td>51745.990273</td>\n      <td>...</td>\n      <td>NaN</td>\n      <td>NaN</td>\n      <td>NaN</td>\n      <td>2.553533e+06</td>\n      <td>NaN</td>\n      <td>NaN</td>\n      <td>NaN</td>\n      <td>3315.776055</td>\n      <td>7.226926e+04</td>\n      <td>NaN</td>\n    </tr>\n    <tr>\n      <th>min</th>\n      <td>1.000000</td>\n      <td>-122.419091</td>\n      <td>47.495573</td>\n      <td>1.000000</td>\n      <td>1001.000000</td>\n      <td>1001.000000</td>\n      <td>NaN</td>\n      <td>NaN</td>\n      <td>NaN</td>\n      <td>23807.000000</td>\n      <td>...</td>\n      <td>NaN</td>\n      <td>NaN</td>\n      <td>NaN</td>\n      <td>1.007024e+06</td>\n      <td>NaN</td>\n      <td>NaN</td>\n      <td>NaN</td>\n      <td>0.000000</td>\n      <td>0.000000e+00</td>\n      <td>NaN</td>\n    </tr>\n    <tr>\n      <th>25%</th>\n      <td>1.000000</td>\n      <td>-122.348673</td>\n      <td>47.575956</td>\n      <td>54267.000000</td>\n      <td>70383.000000</td>\n      <td>70383.000000</td>\n      <td>NaN</td>\n      <td>NaN</td>\n      <td>NaN</td>\n      <td>28667.000000</td>\n      <td>...</td>\n      <td>NaN</td>\n      <td>NaN</td>\n      <td>NaN</td>\n      <td>6.040015e+06</td>\n      <td>NaN</td>\n      <td>NaN</td>\n      <td>NaN</td>\n      <td>0.000000</td>\n      <td>0.000000e+00</td>\n      <td>NaN</td>\n    </tr>\n    <tr>\n      <th>50%</th>\n      <td>1.000000</td>\n      <td>-122.330224</td>\n      <td>47.615369</td>\n      <td>106912.000000</td>\n      <td>123363.000000</td>\n      <td>123363.000000</td>\n      <td>NaN</td>\n      <td>NaN</td>\n      <td>NaN</td>\n      <td>29973.000000</td>\n      <td>...</td>\n      <td>NaN</td>\n      <td>NaN</td>\n      <td>NaN</td>\n      <td>8.023022e+06</td>\n      <td>NaN</td>\n      <td>NaN</td>\n      <td>NaN</td>\n      <td>0.000000</td>\n      <td>0.000000e+00</td>\n      <td>NaN</td>\n    </tr>\n    <tr>\n      <th>75%</th>\n      <td>2.000000</td>\n      <td>-122.311937</td>\n      <td>47.663664</td>\n      <td>162272.000000</td>\n      <td>203319.000000</td>\n      <td>203459.000000</td>\n      <td>NaN</td>\n      <td>NaN</td>\n      <td>NaN</td>\n      <td>33973.000000</td>\n      <td>...</td>\n      <td>NaN</td>\n      <td>NaN</td>\n      <td>NaN</td>\n      <td>1.015501e+07</td>\n      <td>NaN</td>\n      <td>NaN</td>\n      <td>NaN</td>\n      <td>0.000000</td>\n      <td>0.000000e+00</td>\n      <td>NaN</td>\n    </tr>\n    <tr>\n      <th>max</th>\n      <td>2.000000</td>\n      <td>-122.238949</td>\n      <td>47.734142</td>\n      <td>219547.000000</td>\n      <td>331454.000000</td>\n      <td>332954.000000</td>\n      <td>NaN</td>\n      <td>NaN</td>\n      <td>NaN</td>\n      <td>757580.000000</td>\n      <td>...</td>\n      <td>NaN</td>\n      <td>NaN</td>\n      <td>NaN</td>\n      <td>1.307202e+07</td>\n      <td>NaN</td>\n      <td>NaN</td>\n      <td>NaN</td>\n      <td>525241.000000</td>\n      <td>5.239700e+06</td>\n      <td>NaN</td>\n    </tr>\n  </tbody>\n</table>\n<p>11 rows \u00d7 38 columns</p>\n</div>",
                        "text/plain": "         SEVERITYCODE              X              Y       OBJECTID  \\\ncount   194673.000000  189339.000000  189339.000000  194673.000000   \nunique            NaN            NaN            NaN            NaN   \ntop               NaN            NaN            NaN            NaN   \nfreq              NaN            NaN            NaN            NaN   \nmean         1.298901    -122.330518      47.619543  108479.364930   \nstd          0.457778       0.029976       0.056157   62649.722558   \nmin          1.000000    -122.419091      47.495573       1.000000   \n25%          1.000000    -122.348673      47.575956   54267.000000   \n50%          1.000000    -122.330224      47.615369  106912.000000   \n75%          2.000000    -122.311937      47.663664  162272.000000   \nmax          2.000000    -122.238949      47.734142  219547.000000   \n\n               INCKEY      COLDETKEY REPORTNO   STATUS ADDRTYPE  \\\ncount   194673.000000  194673.000000   194673   194673   192747   \nunique            NaN            NaN   194670        2        3   \ntop               NaN            NaN  1782439  Matched    Block   \nfreq              NaN            NaN        2   189786   126926   \nmean    141091.456350  141298.811381      NaN      NaN      NaN   \nstd      86634.402737   86986.542110      NaN      NaN      NaN   \nmin       1001.000000    1001.000000      NaN      NaN      NaN   \n25%      70383.000000   70383.000000      NaN      NaN      NaN   \n50%     123363.000000  123363.000000      NaN      NaN      NaN   \n75%     203319.000000  203459.000000      NaN      NaN      NaN   \nmax     331454.000000  332954.000000      NaN      NaN      NaN   \n\n               INTKEY  ... ROADCOND LIGHTCOND PEDROWNOTGRNT    SDOTCOLNUM  \\\ncount    65070.000000  ...   189661    189503          4667  1.149360e+05   \nunique            NaN  ...        9         9             1           NaN   \ntop               NaN  ...      Dry  Daylight             Y           NaN   \nfreq              NaN  ...   124510    116137          4667           NaN   \nmean     37558.450576  ...      NaN       NaN           NaN  7.972521e+06   \nstd      51745.990273  ...      NaN       NaN           NaN  2.553533e+06   \nmin      23807.000000  ...      NaN       NaN           NaN  1.007024e+06   \n25%      28667.000000  ...      NaN       NaN           NaN  6.040015e+06   \n50%      29973.000000  ...      NaN       NaN           NaN  8.023022e+06   \n75%      33973.000000  ...      NaN       NaN           NaN  1.015501e+07   \nmax     757580.000000  ...      NaN       NaN           NaN  1.307202e+07   \n\n       SPEEDING ST_COLCODE              ST_COLDESC     SEGLANEKEY  \\\ncount      9333     194655                  189769  194673.000000   \nunique        1        115                      62            NaN   \ntop           Y         32  One parked--one moving            NaN   \nfreq       9333      27612                   44421            NaN   \nmean        NaN        NaN                     NaN     269.401114   \nstd         NaN        NaN                     NaN    3315.776055   \nmin         NaN        NaN                     NaN       0.000000   \n25%         NaN        NaN                     NaN       0.000000   \n50%         NaN        NaN                     NaN       0.000000   \n75%         NaN        NaN                     NaN       0.000000   \nmax         NaN        NaN                     NaN  525241.000000   \n\n        CROSSWALKKEY  HITPARKEDCAR  \ncount   1.946730e+05        194673  \nunique           NaN             2  \ntop              NaN             N  \nfreq             NaN        187457  \nmean    9.782452e+03           NaN  \nstd     7.226926e+04           NaN  \nmin     0.000000e+00           NaN  \n25%     0.000000e+00           NaN  \n50%     0.000000e+00           NaN  \n75%     0.000000e+00           NaN  \nmax     5.239700e+06           NaN  \n\n[11 rows x 38 columns]"
                    },
                    "execution_count": 10,
                    "metadata": {},
                    "output_type": "execute_result"
                }
            ],
            "source": "df = pd.read_csv('Data-Collisions.csv')\ndf.describe(include='all')"
        },
        {
            "cell_type": "code",
            "execution_count": 11,
            "metadata": {},
            "outputs": [
                {
                    "name": "stdout",
                    "output_type": "stream",
                    "text": "<class 'pandas.core.frame.DataFrame'>\nRangeIndex: 194673 entries, 0 to 194672\nData columns (total 38 columns):\nSEVERITYCODE      194673 non-null int64\nX                 189339 non-null float64\nY                 189339 non-null float64\nOBJECTID          194673 non-null int64\nINCKEY            194673 non-null int64\nCOLDETKEY         194673 non-null int64\nREPORTNO          194673 non-null object\nSTATUS            194673 non-null object\nADDRTYPE          192747 non-null object\nINTKEY            65070 non-null float64\nLOCATION          191996 non-null object\nEXCEPTRSNCODE     84811 non-null object\nEXCEPTRSNDESC     5638 non-null object\nSEVERITYCODE.1    194673 non-null int64\nSEVERITYDESC      194673 non-null object\nCOLLISIONTYPE     189769 non-null object\nPERSONCOUNT       194673 non-null int64\nPEDCOUNT          194673 non-null int64\nPEDCYLCOUNT       194673 non-null int64\nVEHCOUNT          194673 non-null int64\nINCDATE           194673 non-null object\nINCDTTM           194673 non-null object\nJUNCTIONTYPE      188344 non-null object\nSDOT_COLCODE      194673 non-null int64\nSDOT_COLDESC      194673 non-null object\nINATTENTIONIND    29805 non-null object\nUNDERINFL         189789 non-null object\nWEATHER           189592 non-null object\nROADCOND          189661 non-null object\nLIGHTCOND         189503 non-null object\nPEDROWNOTGRNT     4667 non-null object\nSDOTCOLNUM        114936 non-null float64\nSPEEDING          9333 non-null object\nST_COLCODE        194655 non-null object\nST_COLDESC        189769 non-null object\nSEGLANEKEY        194673 non-null int64\nCROSSWALKKEY      194673 non-null int64\nHITPARKEDCAR      194673 non-null object\ndtypes: float64(4), int64(12), object(22)\nmemory usage: 56.4+ MB\nNone\n"
                }
            ],
            "source": "print(df.info())"
        },
        {
            "cell_type": "markdown",
            "metadata": {},
            "source": "__Let come to parameters now__"
        },
        {
            "cell_type": "code",
            "execution_count": 12,
            "metadata": {},
            "outputs": [
                {
                    "name": "stdout",
                    "output_type": "stream",
                    "text": "<class 'pandas.core.frame.DataFrame'>\nRangeIndex: 194673 entries, 0 to 194672\nData columns (total 4 columns):\nSEVERITYCODE    194673 non-null int64\nWEATHER         189592 non-null object\nROADCOND        189661 non-null object\nLIGHTCOND       189503 non-null object\ndtypes: int64(1), object(3)\nmemory usage: 5.9+ MB\nNone\n"
                }
            ],
            "source": "df=df[['SEVERITYCODE', 'WEATHER', 'ROADCOND', 'LIGHTCOND']]\n\nprint(df.info())"
        },
        {
            "cell_type": "code",
            "execution_count": 23,
            "metadata": {},
            "outputs": [
                {
                    "name": "stdout",
                    "output_type": "stream",
                    "text": "<class 'pandas.core.frame.DataFrame'>\nInt64Index: 189337 entries, 0 to 194672\nData columns (total 4 columns):\nSEVERITYCODE    189337 non-null int64\nWEATHER         189337 non-null object\nROADCOND        189337 non-null object\nLIGHTCOND       189337 non-null object\ndtypes: int64(1), object(3)\nmemory usage: 7.2+ MB\n"
                }
            ],
            "source": "df.dropna(subset=['WEATHER','ROADCOND','LIGHTCOND'],inplace=True)\ndf.info()"
        },
        {
            "cell_type": "code",
            "execution_count": 24,
            "metadata": {},
            "outputs": [
                {
                    "data": {
                        "text/plain": "1    132285\n2     57052\nName: SEVERITYCODE, dtype: int64"
                    },
                    "execution_count": 24,
                    "metadata": {},
                    "output_type": "execute_result"
                }
            ],
            "source": "df['SEVERITYCODE'].value_counts()"
        },
        {
            "cell_type": "code",
            "execution_count": 26,
            "metadata": {},
            "outputs": [
                {
                    "data": {
                        "text/plain": "2    57052\n1    57052\nName: SEVERITYCODE, dtype: int64"
                    },
                    "execution_count": 26,
                    "metadata": {},
                    "output_type": "execute_result"
                }
            ],
            "source": "df_Important = df[df.SEVERITYCODE==1]\ndf_trivial = df[df.SEVERITYCODE==2]\nkp=len(df_trivial)\ndf_Important_reduce = resample(df_Important,replace=False,n_samples=kp,random_state=60)\ndf_reduce = pd.concat([df_Important_reduce, df_trivial])\ndf_reduce.SEVERITYCODE.value_counts()"
        },
        {
            "cell_type": "code",
            "execution_count": 27,
            "metadata": {},
            "outputs": [
                {
                    "data": {
                        "text/plain": "Clear                       68220\nRaining                     20705\nOvercast                    16880\nUnknown                      6920\nSnowing                       477\nOther                         412\nFog/Smog/Smoke                367\nSleet/Hail/Freezing Rain       67\nBlowing Sand/Dirt              35\nSevere Crosswind               18\nPartly Cloudy                   3\nName: WEATHER, dtype: int64"
                    },
                    "execution_count": 27,
                    "metadata": {},
                    "output_type": "execute_result"
                }
            ],
            "source": "df_reduce.WEATHER.value_counts()"
        },
        {
            "cell_type": "code",
            "execution_count": 30,
            "metadata": {},
            "outputs": [
                {
                    "data": {
                        "text/html": "<div>\n<style scoped>\n    .dataframe tbody tr th:only-of-type {\n        vertical-align: middle;\n    }\n\n    .dataframe tbody tr th {\n        vertical-align: top;\n    }\n\n    .dataframe thead th {\n        text-align: right;\n    }\n</style>\n<table border=\"1\" class=\"dataframe\">\n  <thead>\n    <tr style=\"text-align: right;\">\n      <th></th>\n      <th>SEVERITYCODE</th>\n      <th>WEATHER</th>\n      <th>ROADCOND</th>\n      <th>LIGHTCOND</th>\n      <th>WEATHER_CAT</th>\n      <th>ROAD_CAT</th>\n      <th>LIGHT_CAT</th>\n    </tr>\n  </thead>\n  <tbody>\n    <tr>\n      <th>43850</th>\n      <td>1</td>\n      <td>Raining</td>\n      <td>Wet</td>\n      <td>Daylight</td>\n      <td>6</td>\n      <td>8</td>\n      <td>5</td>\n    </tr>\n    <tr>\n      <th>162911</th>\n      <td>1</td>\n      <td>Clear</td>\n      <td>Dry</td>\n      <td>Daylight</td>\n      <td>1</td>\n      <td>0</td>\n      <td>5</td>\n    </tr>\n    <tr>\n      <th>37205</th>\n      <td>1</td>\n      <td>Overcast</td>\n      <td>Dry</td>\n      <td>Dark - Street Lights On</td>\n      <td>4</td>\n      <td>0</td>\n      <td>2</td>\n    </tr>\n    <tr>\n      <th>61273</th>\n      <td>1</td>\n      <td>Clear</td>\n      <td>Dry</td>\n      <td>Daylight</td>\n      <td>1</td>\n      <td>0</td>\n      <td>5</td>\n    </tr>\n    <tr>\n      <th>165867</th>\n      <td>1</td>\n      <td>Clear</td>\n      <td>Dry</td>\n      <td>Dark - Street Lights On</td>\n      <td>1</td>\n      <td>0</td>\n      <td>2</td>\n    </tr>\n  </tbody>\n</table>\n</div>",
                        "text/plain": "        SEVERITYCODE   WEATHER ROADCOND                LIGHTCOND  WEATHER_CAT  \\\n43850              1   Raining      Wet                 Daylight            6   \n162911             1     Clear      Dry                 Daylight            1   \n37205              1  Overcast      Dry  Dark - Street Lights On            4   \n61273              1     Clear      Dry                 Daylight            1   \n165867             1     Clear      Dry  Dark - Street Lights On            1   \n\n        ROAD_CAT  LIGHT_CAT  \n43850          8          5  \n162911         0          5  \n37205          0          2  \n61273          0          5  \n165867         0          2  "
                    },
                    "execution_count": 30,
                    "metadata": {},
                    "output_type": "execute_result"
                }
            ],
            "source": "lb = LabelEncoder()\n\ndf_reduce['WEATHER_CAT'] = lb.fit_transform(df_reduce['WEATHER'])\ndf_reduce['ROAD_CAT'] = lb.fit_transform(df_reduce['ROADCOND'])\ndf_reduce['LIGHT_CAT'] = lb.fit_transform(df_reduce['LIGHTCOND'])\n\ndf_reduce.head()"
        },
        {
            "cell_type": "code",
            "execution_count": 31,
            "metadata": {},
            "outputs": [],
            "source": "df_new = df_reduce[['SEVERITYCODE', 'WEATHER_CAT', 'ROAD_CAT', 'LIGHT_CAT']]"
        },
        {
            "cell_type": "code",
            "execution_count": 32,
            "metadata": {},
            "outputs": [
                {
                    "data": {
                        "text/plain": "<matplotlib.axes._subplots.AxesSubplot at 0x7f6914a50588>"
                    },
                    "execution_count": 32,
                    "metadata": {},
                    "output_type": "execute_result"
                },
                {
                    "data": {
                        "image/png": "[encoded data removed]",
                        "text/plain": "<Figure size 432x288 with 2 Axes>"
                    },
                    "metadata": {
                        "needs_background": "light"
                    },
                    "output_type": "display_data"
                }
            ],
            "source": "sns.heatmap(df_new.corr(), annot = True, vmin=-1, vmax=1, center= 0)"
        },
        {
            "cell_type": "code",
            "execution_count": 33,
            "metadata": {},
            "outputs": [
                {
                    "name": "stdout",
                    "output_type": "stream",
                    "text": "-0.12722864737795683 0.0\n"
                }
            ],
            "source": "pearson_coeff, p_value = pearsonr(df_new['WEATHER_CAT'],df_new['SEVERITYCODE'])\nprint(pearson_coeff, p_value)"
        },
        {
            "cell_type": "code",
            "execution_count": 34,
            "metadata": {},
            "outputs": [
                {
                    "name": "stdout",
                    "output_type": "stream",
                    "text": "-0.0552880929087244 5.969884899964722e-78\n"
                }
            ],
            "source": "pearson_coeff, p_value = pearsonr(df_new['ROAD_CAT'],df_new['SEVERITYCODE'])\nprint(pearson_coeff, p_value)"
        },
        {
            "cell_type": "code",
            "execution_count": 35,
            "metadata": {},
            "outputs": [
                {
                    "name": "stdout",
                    "output_type": "stream",
                    "text": "-0.06873262598693172 1.6122311398351827e-119\n"
                }
            ],
            "source": "pearson_coeff, p_value = pearsonr(df_new['LIGHT_CAT'],df_new['SEVERITYCODE'])\nprint(pearson_coeff, p_value)"
        },
        {
            "cell_type": "markdown",
            "metadata": {},
            "source": "__Feature:__"
        },
        {
            "cell_type": "code",
            "execution_count": 36,
            "metadata": {},
            "outputs": [
                {
                    "data": {
                        "text/plain": "array([1., 1., 1., 1., 1.])"
                    },
                    "execution_count": 36,
                    "metadata": {},
                    "output_type": "execute_result"
                }
            ],
            "source": "X = np.asarray(df_new[['WEATHER_CAT', 'ROAD_CAT', 'LIGHT_CAT']]).astype(float)\ny = np.asarray(df_new['SEVERITYCODE']).astype(float)\ny[0:5]"
        },
        {
            "cell_type": "code",
            "execution_count": 37,
            "metadata": {},
            "outputs": [
                {
                    "data": {
                        "text/plain": "array([[ 1.1293033 ,  1.5021656 ,  0.3924198 ],\n       [-0.71937457, -0.69384608,  0.3924198 ],\n       [ 0.38983215, -0.69384608, -1.43202209],\n       [-0.71937457, -0.69384608,  0.3924198 ],\n       [-0.71937457, -0.69384608, -1.43202209]])"
                    },
                    "execution_count": 37,
                    "metadata": {},
                    "output_type": "execute_result"
                }
            ],
            "source": "X = SS().fit_transform(X)\nX[0:5]"
        },
        {
            "cell_type": "code",
            "execution_count": 38,
            "metadata": {},
            "outputs": [
                {
                    "name": "stdout",
                    "output_type": "stream",
                    "text": "Train Set: (79872, 3) (79872,)\nTest Set: (34232, 3) (34232,)\n"
                }
            ],
            "source": "X_train,X_test,y_train,y_test = tts(X, y, test_size=0.3, random_state=45)\nprint(\"Train Set:\",X_train.shape,y_train.shape)\nprint(\"Test Set:\",X_test.shape,y_test.shape)"
        },
        {
            "cell_type": "markdown",
            "metadata": {},
            "source": "__KNN__"
        },
        {
            "cell_type": "code",
            "execution_count": 45,
            "metadata": {},
            "outputs": [
                {
                    "data": {
                        "text/plain": "KNeighborsClassifier(algorithm='auto', leaf_size=30, metric='minkowski',\n           metric_params=None, n_jobs=None, n_neighbors=3, p=2,\n           weights='uniform')"
                    },
                    "execution_count": 45,
                    "metadata": {},
                    "output_type": "execute_result"
                }
            ],
            "source": "k=3\nkNN_model = KNN(n_neighbors=k).fit(X_train,y_train)\nkNN_model"
        },
        {
            "cell_type": "code",
            "execution_count": 46,
            "metadata": {},
            "outputs": [
                {
                    "data": {
                        "text/plain": "array([2., 1., 2., 2., 2.])"
                    },
                    "execution_count": 46,
                    "metadata": {},
                    "output_type": "execute_result"
                }
            ],
            "source": "yhat = kNN_model.predict(X_test)\nyhat[0:5]"
        },
        {
            "cell_type": "code",
            "execution_count": 50,
            "metadata": {},
            "outputs": [
                {
                    "data": {
                        "text/plain": "array([0.        , 0.        , 0.        , 0.        , 0.        ,\n       0.        , 0.        , 0.        , 0.        , 0.        ,\n       0.        , 0.        , 0.        , 0.51854989])"
                    },
                    "execution_count": 50,
                    "metadata": {},
                    "output_type": "execute_result"
                }
            ],
            "source": "Ks=15\nmean_acc=np.zeros((Ks-1))\nstd_acc=np.zeros((Ks-1))\nConfustionMx=[];\nfor n in range(1,Ks):\n kNN_model= KNN(n_neighbors=n).fit(X_train,y_train)\nyhat = kNN_model.predict(X_test)\nmean_acc[n-1]=np.mean(yhat==y_test);\nstd_acc[n-1]=np.std(yhat==y_test)/np.sqrt(yhat.shape[0])\nmean_acc"
        },
        {
            "cell_type": "code",
            "execution_count": 51,
            "metadata": {},
            "outputs": [
                {
                    "data": {
                        "text/plain": "KNeighborsClassifier(algorithm='auto', leaf_size=30, metric='minkowski',\n           metric_params=None, n_jobs=None, n_neighbors=5, p=2,\n           weights='uniform')"
                    },
                    "execution_count": 51,
                    "metadata": {},
                    "output_type": "execute_result"
                }
            ],
            "source": "k = 5\nkNN_model = KNN(n_neighbors=k).fit(X_train,y_train)\nkNN_model"
        },
        {
            "cell_type": "code",
            "execution_count": 52,
            "metadata": {},
            "outputs": [
                {
                    "name": "stdout",
                    "output_type": "stream",
                    "text": "KNN Jaccard index: 0.52\nKNN F1-score: 0.51\n"
                }
            ],
            "source": "print(\"KNN Jaccard index: %.2f\" % jaccard_similarity_score(y_test, yhat))\nprint(\"KNN F1-score: %.2f\" % f1_score(y_test, yhat, average='weighted') )"
        },
        {
            "cell_type": "markdown",
            "metadata": {},
            "source": "__Decision Tree__"
        },
        {
            "cell_type": "code",
            "execution_count": 53,
            "metadata": {},
            "outputs": [
                {
                    "data": {
                        "text/plain": "DecisionTreeClassifier(class_weight=None, criterion='entropy', max_depth=4,\n            max_features=None, max_leaf_nodes=None,\n            min_impurity_decrease=0.0, min_impurity_split=None,\n            min_samples_leaf=1, min_samples_split=2,\n            min_weight_fraction_leaf=0.0, presort=False, random_state=None,\n            splitter='best')"
                    },
                    "execution_count": 53,
                    "metadata": {},
                    "output_type": "execute_result"
                }
            ],
            "source": "DT_model = DTC(criterion=\"entropy\", max_depth = 4)\nDT_model.fit(X_train,y_train)\nDT_model"
        },
        {
            "cell_type": "code",
            "execution_count": 54,
            "metadata": {},
            "outputs": [
                {
                    "data": {
                        "text/plain": "array([2., 2., 2., ..., 2., 2., 1.])"
                    },
                    "execution_count": 54,
                    "metadata": {},
                    "output_type": "execute_result"
                }
            ],
            "source": "yhat1 = DT_model.predict(X_test)\nyhat1"
        },
        {
            "cell_type": "markdown",
            "metadata": {},
            "source": "__Decision Tree__"
        },
        {
            "cell_type": "code",
            "execution_count": 55,
            "metadata": {},
            "outputs": [
                {
                    "name": "stdout",
                    "output_type": "stream",
                    "text": "DT Jaccard index: 0.55\nDT F1-score: 0.46\n"
                }
            ],
            "source": "print(\"DT Jaccard index: %.2f\" % jaccard_similarity_score(y_test, yhat1))\nprint(\"DT F1-score: %.2f\" % f1_score(y_test, yhat1, average='weighted') )"
        },
        {
            "cell_type": "markdown",
            "metadata": {},
            "source": "__Regression__"
        },
        {
            "cell_type": "code",
            "execution_count": 56,
            "metadata": {},
            "outputs": [
                {
                    "data": {
                        "text/plain": "LogisticRegression(C=0.01, class_weight=None, dual=False, fit_intercept=True,\n          intercept_scaling=1, max_iter=100, multi_class='warn',\n          n_jobs=None, penalty='l2', random_state=None, solver='liblinear',\n          tol=0.0001, verbose=0, warm_start=False)"
                    },
                    "execution_count": 56,
                    "metadata": {},
                    "output_type": "execute_result"
                }
            ],
            "source": "LR_model = LR(C=0.01,solver='liblinear').fit(X_train,y_train)\nLR_model"
        },
        {
            "cell_type": "code",
            "execution_count": 57,
            "metadata": {},
            "outputs": [
                {
                    "data": {
                        "text/plain": "array([2., 2., 2., ..., 2., 2., 1.])"
                    },
                    "execution_count": 57,
                    "metadata": {},
                    "output_type": "execute_result"
                }
            ],
            "source": "yhat2 = LR_model.predict(X_test)\nyhat2"
        },
        {
            "cell_type": "code",
            "execution_count": 58,
            "metadata": {},
            "outputs": [
                {
                    "name": "stdout",
                    "output_type": "stream",
                    "text": "LR Jaccard index: 0.54\nLR F1-score: 0.52\nLR LogLoss: 0.68\n"
                }
            ],
            "source": "yhat_prob = LR_model.predict_proba(X_test)\nprint(\"LR Jaccard index: %.2f\" % jaccard_similarity_score(y_test, yhat2))\nprint(\"LR F1-score: %.2f\" % f1_score(y_test, yhat2, average='weighted') )\nprint(\"LR LogLoss: %.2f\" % log_loss(y_test, yhat_prob))"
        },
        {
            "cell_type": "code",
            "execution_count": 69,
            "metadata": {},
            "outputs": [
                {
                    "data": {
                        "text/plain": "[0.52, 0.55, 0.54]"
                    },
                    "execution_count": 69,
                    "metadata": {},
                    "output_type": "execute_result"
                }
            ],
            "source": "from sklearn.metrics import jaccard_similarity_score\nknn_yhat = kNN_model.predict(X_test)\njss1 = round(jaccard_similarity_score(y_test, yhat), 2)\n# Decision Tree\ndt_yhat = DT_model.predict(X_test)\njss2 = round(jaccard_similarity_score(y_test, yhat1), 2)\n# Logistic Regression\nlr_yhat = LR_model.predict(X_test)\njss3 = round(jaccard_similarity_score(y_test, yhat2), 2)\n\njss_list = [jss1, jss2, jss3]\njss_list"
        },
        {
            "cell_type": "code",
            "execution_count": 71,
            "metadata": {},
            "outputs": [
                {
                    "data": {
                        "text/plain": "[0.52, 0.46, 0.52]"
                    },
                    "execution_count": 71,
                    "metadata": {},
                    "output_type": "execute_result"
                }
            ],
            "source": "from sklearn.metrics import f1_score\n# KNN\nknn_yhat = kNN_model.predict(X_test)\nf1 = round(f1_score(y_test, knn_yhat, average = 'weighted'), 2)\n# Decision Tree\ndt_yhat = DT_model.predict(X_test)\nf2 = round(f1_score(y_test, dt_yhat, average = 'weighted'), 2)\n# Logistic Regression\nlr_yhat = LR_model.predict(X_test)\nf3 = round(f1_score(y_test, lr_yhat, average = 'weighted'), 2)\nf1_list = [f1, f2, f3]\nf1_list"
        },
        {
            "cell_type": "code",
            "execution_count": 77,
            "metadata": {},
            "outputs": [
                {
                    "data": {
                        "text/plain": "[0.94, 0.67, 0.68]"
                    },
                    "execution_count": 77,
                    "metadata": {},
                    "output_type": "execute_result"
                }
            ],
            "source": "from sklearn.metrics import log_loss\n\n# KNN\nlr_prob=kNN_model.predict_proba(X_test)\nl1 = round(log_loss(y_test, lr_prob), 2)\n\n# Decision tree\nlr_prob1=DT_model.predict_proba(X_test)\nl2 = round(log_loss(y_test, lr_prob1), 2)\n\n# Logistic Regression\nlr_prob2 = LR_model.predict_proba(X_test)\nl3 = round(log_loss(y_test, lr_prob2), 2)\n\nll_list = [l1,l2,l3]\nll_list"
        },
        {
            "cell_type": "code",
            "execution_count": 78,
            "metadata": {},
            "outputs": [],
            "source": "columns = ['KNN', 'Decision Tree', 'Logistic Regression']\nindex = ['Jaccard', 'F1-score', 'Logloss']"
        },
        {
            "cell_type": "code",
            "execution_count": 79,
            "metadata": {},
            "outputs": [],
            "source": "accuracy_df = pd.DataFrame([jss_list, f1_list, ll_list], index = index, columns = columns)"
        },
        {
            "cell_type": "code",
            "execution_count": 80,
            "metadata": {},
            "outputs": [
                {
                    "data": {
                        "text/html": "<div>\n<style scoped>\n    .dataframe tbody tr th:only-of-type {\n        vertical-align: middle;\n    }\n\n    .dataframe tbody tr th {\n        vertical-align: top;\n    }\n\n    .dataframe thead th {\n        text-align: right;\n    }\n</style>\n<table border=\"1\" class=\"dataframe\">\n  <thead>\n    <tr style=\"text-align: right;\">\n      <th>Algorithm</th>\n      <th>Jaccard</th>\n      <th>F1-score</th>\n      <th>Logloss</th>\n    </tr>\n  </thead>\n  <tbody>\n    <tr>\n      <th>KNN</th>\n      <td>0.52</td>\n      <td>0.52</td>\n      <td>0.94</td>\n    </tr>\n    <tr>\n      <th>Decision Tree</th>\n      <td>0.55</td>\n      <td>0.46</td>\n      <td>0.67</td>\n    </tr>\n    <tr>\n      <th>Logistic Regression</th>\n      <td>0.54</td>\n      <td>0.52</td>\n      <td>0.68</td>\n    </tr>\n  </tbody>\n</table>\n</div>",
                        "text/plain": "Algorithm            Jaccard  F1-score  Logloss\nKNN                     0.52      0.52     0.94\nDecision Tree           0.55      0.46     0.67\nLogistic Regression     0.54      0.52     0.68"
                    },
                    "execution_count": 80,
                    "metadata": {},
                    "output_type": "execute_result"
                }
            ],
            "source": "accuracy_df1 = accuracy_df.transpose()\naccuracy_df1.columns.name = 'Algorithm'\naccuracy_df1"
        },
        {
            "cell_type": "code",
            "execution_count": null,
            "metadata": {},
            "outputs": [],
            "source": ""
        }
    ],
    "metadata": {
        "kernelspec": {
            "display_name": "Python 3.6",
            "language": "python",
            "name": "python3"
        },
        "language_info": {
            "codemirror_mode": {
                "name": "ipython",
                "version": 3
            },
            "file_extension": ".py",
            "mimetype": "text/x-python",
            "name": "python",
            "nbconvert_exporter": "python",
            "pygments_lexer": "ipython3",
            "version": "3.6.9"
        }
    },
    "nbformat": 4,
    "nbformat_minor": 1
}